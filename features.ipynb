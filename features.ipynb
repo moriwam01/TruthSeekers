{
 "cells": [
  {
   "cell_type": "code",
   "execution_count": 1,
   "metadata": {},
   "outputs": [],
   "source": [
    "import pandas as pd\n",
    "from sklearn.model_selection import train_test_split\n",
    "from sklearn.feature_extraction.text import TfidfVectorizer\n",
    "from sklearn.cluster import KMeans\n",
    "from sklearn.feature_extraction.text import CountVectorizer\n",
    "from sklearn.feature_extraction.text import TfidfTransformer"
   ]
  },
  {
   "cell_type": "code",
   "execution_count": 2,
   "metadata": {},
   "outputs": [],
   "source": [
    "df = pd.read_csv('Features_For_Traditional_ML_Techniques.csv')"
   ]
  },
  {
   "cell_type": "code",
   "execution_count": 4,
   "metadata": {},
   "outputs": [
    {
     "data": {
      "text/html": [
       "<div>\n",
       "<style scoped>\n",
       "    .dataframe tbody tr th:only-of-type {\n",
       "        vertical-align: middle;\n",
       "    }\n",
       "\n",
       "    .dataframe tbody tr th {\n",
       "        vertical-align: top;\n",
       "    }\n",
       "\n",
       "    .dataframe thead th {\n",
       "        text-align: right;\n",
       "    }\n",
       "</style>\n",
       "<table border=\"1\" class=\"dataframe\">\n",
       "  <thead>\n",
       "    <tr style=\"text-align: right;\">\n",
       "      <th></th>\n",
       "      <th>Unnamed: 0</th>\n",
       "      <th>majority_target</th>\n",
       "      <th>statement</th>\n",
       "      <th>BinaryNumTarget</th>\n",
       "      <th>tweet</th>\n",
       "      <th>followers_count</th>\n",
       "      <th>friends_count</th>\n",
       "      <th>favourites_count</th>\n",
       "      <th>statuses_count</th>\n",
       "      <th>listed_count</th>\n",
       "      <th>...</th>\n",
       "      <th>determiners</th>\n",
       "      <th>conjunctions</th>\n",
       "      <th>dots</th>\n",
       "      <th>exclamation</th>\n",
       "      <th>questions</th>\n",
       "      <th>ampersand</th>\n",
       "      <th>capitals</th>\n",
       "      <th>digits</th>\n",
       "      <th>long_word_freq</th>\n",
       "      <th>short_word_freq</th>\n",
       "    </tr>\n",
       "  </thead>\n",
       "  <tbody>\n",
       "    <tr>\n",
       "      <th>0</th>\n",
       "      <td>0</td>\n",
       "      <td>True</td>\n",
       "      <td>End of eviction moratorium means millions of A...</td>\n",
       "      <td>1.0</td>\n",
       "      <td>@POTUS Biden Blunders - 6 Month Update\\n\\nInfl...</td>\n",
       "      <td>4262.0</td>\n",
       "      <td>3619.0</td>\n",
       "      <td>34945.0</td>\n",
       "      <td>16423.0</td>\n",
       "      <td>44.0</td>\n",
       "      <td>...</td>\n",
       "      <td>0</td>\n",
       "      <td>0</td>\n",
       "      <td>5</td>\n",
       "      <td>0</td>\n",
       "      <td>1</td>\n",
       "      <td>0</td>\n",
       "      <td>33</td>\n",
       "      <td>3</td>\n",
       "      <td>5</td>\n",
       "      <td>19</td>\n",
       "    </tr>\n",
       "    <tr>\n",
       "      <th>1</th>\n",
       "      <td>1</td>\n",
       "      <td>True</td>\n",
       "      <td>End of eviction moratorium means millions of A...</td>\n",
       "      <td>1.0</td>\n",
       "      <td>@S0SickRick @Stairmaster_ @6d6f636869 Not as m...</td>\n",
       "      <td>1393.0</td>\n",
       "      <td>1621.0</td>\n",
       "      <td>31436.0</td>\n",
       "      <td>37184.0</td>\n",
       "      <td>64.0</td>\n",
       "      <td>...</td>\n",
       "      <td>0</td>\n",
       "      <td>2</td>\n",
       "      <td>1</td>\n",
       "      <td>0</td>\n",
       "      <td>0</td>\n",
       "      <td>0</td>\n",
       "      <td>14</td>\n",
       "      <td>0</td>\n",
       "      <td>2</td>\n",
       "      <td>34</td>\n",
       "    </tr>\n",
       "    <tr>\n",
       "      <th>2</th>\n",
       "      <td>2</td>\n",
       "      <td>True</td>\n",
       "      <td>End of eviction moratorium means millions of A...</td>\n",
       "      <td>1.0</td>\n",
       "      <td>THE SUPREME COURT is siding with super rich pr...</td>\n",
       "      <td>9.0</td>\n",
       "      <td>84.0</td>\n",
       "      <td>219.0</td>\n",
       "      <td>1184.0</td>\n",
       "      <td>0.0</td>\n",
       "      <td>...</td>\n",
       "      <td>0</td>\n",
       "      <td>1</td>\n",
       "      <td>0</td>\n",
       "      <td>0</td>\n",
       "      <td>0</td>\n",
       "      <td>0</td>\n",
       "      <td>3</td>\n",
       "      <td>0</td>\n",
       "      <td>4</td>\n",
       "      <td>10</td>\n",
       "    </tr>\n",
       "    <tr>\n",
       "      <th>3</th>\n",
       "      <td>3</td>\n",
       "      <td>True</td>\n",
       "      <td>End of eviction moratorium means millions of A...</td>\n",
       "      <td>1.0</td>\n",
       "      <td>@POTUS Biden Blunders\\n\\nBroken campaign promi...</td>\n",
       "      <td>4262.0</td>\n",
       "      <td>3619.0</td>\n",
       "      <td>34945.0</td>\n",
       "      <td>16423.0</td>\n",
       "      <td>44.0</td>\n",
       "      <td>...</td>\n",
       "      <td>0</td>\n",
       "      <td>1</td>\n",
       "      <td>3</td>\n",
       "      <td>0</td>\n",
       "      <td>0</td>\n",
       "      <td>1</td>\n",
       "      <td>6</td>\n",
       "      <td>8</td>\n",
       "      <td>1</td>\n",
       "      <td>30</td>\n",
       "    </tr>\n",
       "    <tr>\n",
       "      <th>4</th>\n",
       "      <td>4</td>\n",
       "      <td>True</td>\n",
       "      <td>End of eviction moratorium means millions of A...</td>\n",
       "      <td>1.0</td>\n",
       "      <td>@OhComfy I agree. The confluence of events rig...</td>\n",
       "      <td>70.0</td>\n",
       "      <td>166.0</td>\n",
       "      <td>15282.0</td>\n",
       "      <td>2194.0</td>\n",
       "      <td>0.0</td>\n",
       "      <td>...</td>\n",
       "      <td>0</td>\n",
       "      <td>1</td>\n",
       "      <td>3</td>\n",
       "      <td>0</td>\n",
       "      <td>1</td>\n",
       "      <td>0</td>\n",
       "      <td>11</td>\n",
       "      <td>3</td>\n",
       "      <td>2</td>\n",
       "      <td>19</td>\n",
       "    </tr>\n",
       "  </tbody>\n",
       "</table>\n",
       "<p>5 rows × 64 columns</p>\n",
       "</div>"
      ],
      "text/plain": [
       "   Unnamed: 0  majority_target  \\\n",
       "0           0             True   \n",
       "1           1             True   \n",
       "2           2             True   \n",
       "3           3             True   \n",
       "4           4             True   \n",
       "\n",
       "                                           statement  BinaryNumTarget  \\\n",
       "0  End of eviction moratorium means millions of A...              1.0   \n",
       "1  End of eviction moratorium means millions of A...              1.0   \n",
       "2  End of eviction moratorium means millions of A...              1.0   \n",
       "3  End of eviction moratorium means millions of A...              1.0   \n",
       "4  End of eviction moratorium means millions of A...              1.0   \n",
       "\n",
       "                                               tweet  followers_count  \\\n",
       "0  @POTUS Biden Blunders - 6 Month Update\\n\\nInfl...           4262.0   \n",
       "1  @S0SickRick @Stairmaster_ @6d6f636869 Not as m...           1393.0   \n",
       "2  THE SUPREME COURT is siding with super rich pr...              9.0   \n",
       "3  @POTUS Biden Blunders\\n\\nBroken campaign promi...           4262.0   \n",
       "4  @OhComfy I agree. The confluence of events rig...             70.0   \n",
       "\n",
       "   friends_count  favourites_count  statuses_count  listed_count  ...  \\\n",
       "0         3619.0           34945.0         16423.0          44.0  ...   \n",
       "1         1621.0           31436.0         37184.0          64.0  ...   \n",
       "2           84.0             219.0          1184.0           0.0  ...   \n",
       "3         3619.0           34945.0         16423.0          44.0  ...   \n",
       "4          166.0           15282.0          2194.0           0.0  ...   \n",
       "\n",
       "   determiners conjunctions  dots  exclamation  questions  ampersand  \\\n",
       "0            0            0     5            0          1          0   \n",
       "1            0            2     1            0          0          0   \n",
       "2            0            1     0            0          0          0   \n",
       "3            0            1     3            0          0          1   \n",
       "4            0            1     3            0          1          0   \n",
       "\n",
       "   capitals  digits  long_word_freq  short_word_freq  \n",
       "0        33       3               5               19  \n",
       "1        14       0               2               34  \n",
       "2         3       0               4               10  \n",
       "3         6       8               1               30  \n",
       "4        11       3               2               19  \n",
       "\n",
       "[5 rows x 64 columns]"
      ]
     },
     "execution_count": 4,
     "metadata": {},
     "output_type": "execute_result"
    }
   ],
   "source": [
    "df.head()"
   ]
  },
  {
   "cell_type": "code",
   "execution_count": 5,
   "metadata": {},
   "outputs": [
    {
     "data": {
      "text/plain": [
       "(134198, 64)"
      ]
     },
     "execution_count": 5,
     "metadata": {},
     "output_type": "execute_result"
    }
   ],
   "source": [
    "df.shape"
   ]
  },
  {
   "cell_type": "code",
   "execution_count": 6,
   "metadata": {},
   "outputs": [
    {
     "name": "stdout",
     "output_type": "stream",
     "text": [
      "Index(['Unnamed: 0', 'majority_target', 'statement', 'BinaryNumTarget',\n",
      "       'tweet', 'followers_count', 'friends_count', 'favourites_count',\n",
      "       'statuses_count', 'listed_count', 'following', 'embeddings', 'BotScore',\n",
      "       'BotScoreBinary', 'cred', 'normalize_influence', 'mentions', 'quotes',\n",
      "       'replies', 'retweets', 'favourites', 'hashtags', 'URLs', 'unique_count',\n",
      "       'total_count', 'ORG_percentage', 'NORP_percentage', 'GPE_percentage',\n",
      "       'PERSON_percentage', 'MONEY_percentage', 'DATE_percentage',\n",
      "       'CARDINAL_percentage', 'PERCENT_percentage', 'ORDINAL_percentage',\n",
      "       'FAC_percentage', 'LAW_percentage', 'PRODUCT_percentage',\n",
      "       'EVENT_percentage', 'TIME_percentage', 'LOC_percentage',\n",
      "       'WORK_OF_ART_percentage', 'QUANTITY_percentage', 'LANGUAGE_percentage',\n",
      "       'Word count', 'Max word length', 'Min word length',\n",
      "       'Average word length', 'present_verbs', 'past_verbs', 'adjectives',\n",
      "       'adverbs', 'adpositions', 'pronouns', 'TOs', 'determiners',\n",
      "       'conjunctions', 'dots', 'exclamation', 'questions', 'ampersand',\n",
      "       'capitals', 'digits', 'long_word_freq', 'short_word_freq'],\n",
      "      dtype='object')\n"
     ]
    }
   ],
   "source": [
    "print(df.columns)"
   ]
  },
  {
   "cell_type": "code",
   "execution_count": 8,
   "metadata": {},
   "outputs": [],
   "source": [
    "# Preprocess text (replace 'tweet' with the correct column name)\n",
    "def clean_text_function(text):\n",
    "    # Your text cleaning code here\n",
    "    cleaned_text = text.lower()  # Replace this line with your actual text cleaning code\n",
    "    return cleaned_text\n",
    "\n",
    "# Replace 'tweet' with the correct column name from your dataset\n",
    "df['clean_text'] = df['tweet'].apply(clean_text_function)"
   ]
  },
  {
   "cell_type": "code",
   "execution_count": 9,
   "metadata": {},
   "outputs": [],
   "source": [
    "# Split data\n",
    "train_texts, test_texts, train_labels, test_labels = train_test_split(\n",
    "    df['clean_text'], df['BinaryNumTarget'], test_size=0.2, random_state=42\n",
    ")\n",
    "\n",
    "# TF-IDF Vectorization\n",
    "tfidf_vectorizer = TfidfVectorizer()\n",
    "tfidf_matrix = tfidf_vectorizer.fit_transform(df['clean_text'])"
   ]
  },
  {
   "cell_type": "code",
   "execution_count": 10,
   "metadata": {},
   "outputs": [
    {
     "name": "stderr",
     "output_type": "stream",
     "text": [
      "c:\\Users\\mariw\\anaconda3\\Lib\\site-packages\\sklearn\\cluster\\_kmeans.py:1412: FutureWarning: The default value of `n_init` will change from 10 to 'auto' in 1.4. Set the value of `n_init` explicitly to suppress the warning\n",
      "  super()._check_params_vs_input(X, default_n_init=10)\n"
     ]
    }
   ],
   "source": [
    "# K-means clustering\n",
    "kmeans = KMeans(n_clusters=3, random_state=42)\n",
    "df['cluster'] = kmeans.fit_predict(tfidf_matrix)\n",
    "\n",
    "# TF-IDF for keyword extraction\n",
    "cv = CountVectorizer()\n",
    "word_count_vector = cv.fit_transform(df['clean_text'])\n",
    "tfidf_transformer = TfidfTransformer(smooth_idf=True, use_idf=True)\n",
    "tfidf_transformer.fit(word_count_vector)\n",
    "\n",
    "# Get feature names\n",
    "feature_names = cv.get_feature_names_out()"
   ]
  },
  {
   "cell_type": "code",
   "execution_count": 11,
   "metadata": {},
   "outputs": [
    {
     "name": "stdout",
     "output_type": "stream",
     "text": [
      "Cluster Keywords: [array([['he', 'trump', 'the', ..., 'markjohnt3', 'markjonesespn',\n",
      "        'kevincastley']], dtype=object)]\n"
     ]
    }
   ],
   "source": [
    "# Extract keywords for a specific cluster (replace 'cluster_id' with the actual cluster ID)\n",
    "cluster_id = 0\n",
    "cluster_keywords = [feature_names[i] for i in tfidf_matrix[df['cluster'] == cluster_id].sum(axis=0).argsort()[0, ::-1][:10]]\n",
    "print(\"Cluster Keywords:\", cluster_keywords)"
   ]
  },
  {
   "cell_type": "code",
   "execution_count": null,
   "metadata": {},
   "outputs": [],
   "source": []
  }
 ],
 "metadata": {
  "kernelspec": {
   "display_name": "base",
   "language": "python",
   "name": "python3"
  },
  "language_info": {
   "codemirror_mode": {
    "name": "ipython",
    "version": 3
   },
   "file_extension": ".py",
   "mimetype": "text/x-python",
   "name": "python",
   "nbconvert_exporter": "python",
   "pygments_lexer": "ipython3",
   "version": "3.11.4"
  }
 },
 "nbformat": 4,
 "nbformat_minor": 2
}
