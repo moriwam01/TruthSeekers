{
 "cells": [
  {
   "cell_type": "code",
   "execution_count": 4,
   "metadata": {},
   "outputs": [],
   "source": [
    "import re\n",
    "import pandas as pd\n",
    "import string\n",
    "from nltk.corpus import stopwords\n",
    "from nltk.tokenize import word_tokenize\n",
    "from nltk.stem import PorterStemmer\n",
    "import nltk\n",
    "from sklearn.feature_extraction.text import TfidfVectorizer\n",
    "from sklearn.cluster import KMeans"
   ]
  },
  {
   "cell_type": "code",
   "execution_count": 3,
   "metadata": {},
   "outputs": [
    {
     "ename": "NameError",
     "evalue": "name 'pd' is not defined",
     "output_type": "error",
     "traceback": [
      "\u001b[1;31m---------------------------------------------------------------------------\u001b[0m",
      "\u001b[1;31mNameError\u001b[0m                                 Traceback (most recent call last)",
      "\u001b[1;32mc:\\Users\\mariw\\OneDrive\\Documents\\Dummy_fact\\mode_data.ipynb Cell 2\u001b[0m line \u001b[0;36m3\n\u001b[0;32m      <a href='vscode-notebook-cell:/c%3A/Users/mariw/OneDrive/Documents/Dummy_fact/mode_data.ipynb#W1sZmlsZQ%3D%3D?line=0'>1</a>\u001b[0m \u001b[39m# Load the dataset\u001b[39;00m\n\u001b[0;32m      <a href='vscode-notebook-cell:/c%3A/Users/mariw/OneDrive/Documents/Dummy_fact/mode_data.ipynb#W1sZmlsZQ%3D%3D?line=1'>2</a>\u001b[0m file_path \u001b[39m=\u001b[39m \u001b[39m'\u001b[39m\u001b[39mTruth_Seeker_Model_Dataset_With_TimeStamps.xlsx\u001b[39m\u001b[39m'\u001b[39m\n\u001b[1;32m----> <a href='vscode-notebook-cell:/c%3A/Users/mariw/OneDrive/Documents/Dummy_fact/mode_data.ipynb#W1sZmlsZQ%3D%3D?line=2'>3</a>\u001b[0m df \u001b[39m=\u001b[39m pd\u001b[39m.\u001b[39mread_excel(file_path)\n",
      "\u001b[1;31mNameError\u001b[0m: name 'pd' is not defined"
     ]
    }
   ],
   "source": [
    "# Load the dataset\n",
    "file_path = 'Truth_Seeker_Model_Dataset_With_TimeStamps.xlsx'\n",
    "df = pd.read_excel(file_path)"
   ]
  },
  {
   "cell_type": "code",
   "execution_count": 3,
   "metadata": {},
   "outputs": [
    {
     "name": "stdout",
     "output_type": "stream",
     "text": [
      "Index(['Unnamed: 0', 'author', 'statement', 'target', 'BinaryNumTarget',\n",
      "       'manual_keywords', 'tweet', '5_label_majority_answer',\n",
      "       '3_label_majority_answer', 'timestamp'],\n",
      "      dtype='object')\n"
     ]
    }
   ],
   "source": [
    "print(df.columns)"
   ]
  },
  {
   "cell_type": "code",
   "execution_count": null,
   "metadata": {},
   "outputs": [],
   "source": [
    "def clean_text_function(text):\n",
    "    # Check if the value is a string\n",
    "    if isinstance(text, str):\n",
    "        # Convert to lowercase\n",
    "        text = text.lower()"
   ]
  },
  {
   "cell_type": "code",
   "execution_count": 10,
   "metadata": {},
   "outputs": [],
   "source": [
    "def clean_text_function(text):\n",
    "    # Check if the value is a string\n",
    "    if isinstance(text, str):\n",
    "        # Convert to lowercase\n",
    "        text = text.lower()\n",
    "\n",
    "        # Remove special characters, URLs, and mentions\n",
    "        text = re.sub(r'http\\S+|www\\S+|@[^\\s]+', '', text, flags=re.MULTILINE)\n",
    "\n",
    "        # Remove punctuation\n",
    "        text = text.translate(str.maketrans('', '', string.punctuation))\n",
    "\n",
    "        # Tokenize the text\n",
    "        words = word_tokenize(text)\n",
    "\n",
    "        # Remove stop words\n",
    "        stop_words = set(stopwords.words('english'))\n",
    "        words = [word for word in words if word not in stop_words]\n",
    "\n",
    "        # Stemming\n",
    "        ps = PorterStemmer()\n",
    "        words = [ps.stem(word) for word in words]\n",
    "\n",
    "        # Reassemble the cleaned text\n",
    "        cleaned_text = ' '.join(words)\n",
    "\n",
    "        return cleaned_text\n",
    "    else:\n",
    "        return \"\"  # or handle non-string values as needed\n",
    "\n",
    "# Rest of the code...\n"
   ]
  },
  {
   "cell_type": "code",
   "execution_count": 1,
   "metadata": {},
   "outputs": [
    {
     "ename": "NameError",
     "evalue": "name 'df' is not defined",
     "output_type": "error",
     "traceback": [
      "\u001b[1;31m---------------------------------------------------------------------------\u001b[0m",
      "\u001b[1;31mNameError\u001b[0m                                 Traceback (most recent call last)",
      "\u001b[1;32mc:\\Users\\mariw\\OneDrive\\Documents\\Dummy_fact\\mode_data.ipynb Cell 6\u001b[0m line \u001b[0;36m3\n\u001b[0;32m     <a href='vscode-notebook-cell:/c%3A/Users/mariw/OneDrive/Documents/Dummy_fact/mode_data.ipynb#W5sZmlsZQ%3D%3D?line=28'>29</a>\u001b[0m         \u001b[39mreturn\u001b[39;00m \u001b[39mstr\u001b[39m(text)  \u001b[39m# Convert non-string values to string or handle them as needed\u001b[39;00m\n\u001b[0;32m     <a href='vscode-notebook-cell:/c%3A/Users/mariw/OneDrive/Documents/Dummy_fact/mode_data.ipynb#W5sZmlsZQ%3D%3D?line=30'>31</a>\u001b[0m \u001b[39m# Apply the function to create a new column\u001b[39;00m\n\u001b[1;32m---> <a href='vscode-notebook-cell:/c%3A/Users/mariw/OneDrive/Documents/Dummy_fact/mode_data.ipynb#W5sZmlsZQ%3D%3D?line=31'>32</a>\u001b[0m df[\u001b[39m'\u001b[39m\u001b[39mclean_statement\u001b[39m\u001b[39m'\u001b[39m] \u001b[39m=\u001b[39m df[\u001b[39m'\u001b[39m\u001b[39mstatement\u001b[39m\u001b[39m'\u001b[39m]\u001b[39m.\u001b[39mapply(clean_text_function)\n",
      "\u001b[1;31mNameError\u001b[0m: name 'df' is not defined"
     ]
    }
   ],
   "source": [
    "def clean_text_function(text):\n",
    "    # Check if the value is a string\n",
    "    if isinstance(text, str):\n",
    "        # Convert to lowercase\n",
    "        text = text.lower()\n",
    "\n",
    "        # Remove special characters, URLs, and mentions\n",
    "        text = re.sub(r'http\\S+|www\\S+|@[^\\s]+', '', text, flags=re.MULTILINE)\n",
    "\n",
    "        # Remove punctuation\n",
    "        text = text.translate(str.maketrans('', '', string.punctuation))\n",
    "\n",
    "        # Tokenize the text\n",
    "        words = word_tokenize(text)\n",
    "\n",
    "        # Remove stop words\n",
    "        stop_words = set(stopwords.words('english'))\n",
    "        words = [word for word in words if word not in stop_words]\n",
    "\n",
    "        # Stemming\n",
    "        ps = PorterStemmer()\n",
    "        words = [ps.stem(word) for word in words]\n",
    "\n",
    "        # Reassemble the cleaned text\n",
    "        cleaned_text = ' '.join(words)\n",
    "\n",
    "        return cleaned_text\n",
    "    else:\n",
    "        return str(text)  # Convert non-string values to string or handle them as needed\n",
    "\n",
    "# Apply the function to create a new column\n",
    "df['clean_statement'] = df['statement'].apply(clean_text_function)"
   ]
  },
  {
   "cell_type": "code",
   "execution_count": null,
   "metadata": {},
   "outputs": [],
   "source": [
    "# TF-IDF Vectorization\n",
    "tfidf_vectorizer = TfidfVectorizer()\n",
    "tfidf_matrix = tfidf_vectorizer.fit_transform(df['clean_statement'])\n",
    "\n",
    "# K-means clustering\n",
    "num_clusters = 3  # Adjust the number of clusters as needed\n",
    "kmeans = KMeans(n_clusters=num_clusters, random_state=42)\n",
    "df['cluster'] = kmeans.fit_predict(tfidf_matrix)\n",
    "\n",
    "# Display the first few rows of the DataFrame with assigned clusters\n",
    "print(df[['clean_statement', 'cluster']].head())\n"
   ]
  }
 ],
 "metadata": {
  "kernelspec": {
   "display_name": "base",
   "language": "python",
   "name": "python3"
  },
  "language_info": {
   "codemirror_mode": {
    "name": "ipython",
    "version": 3
   },
   "file_extension": ".py",
   "mimetype": "text/x-python",
   "name": "python",
   "nbconvert_exporter": "python",
   "pygments_lexer": "ipython3",
   "version": "3.11.4"
  }
 },
 "nbformat": 4,
 "nbformat_minor": 2
}
